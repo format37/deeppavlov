{
 "cells": [
  {
   "cell_type": "code",
   "execution_count": 1,
   "id": "935aff6c",
   "metadata": {},
   "outputs": [],
   "source": [
    "import os\n",
    "import openai\n",
    "import json\n",
    "import re"
   ]
  },
  {
   "cell_type": "code",
   "execution_count": 2,
   "id": "81a2096a",
   "metadata": {},
   "outputs": [],
   "source": [
    "def extract_data(data):\n",
    "    \"\"\"\n",
    "    extract data from string to dictionary\n",
    "    \"\"\"\n",
    "    result = {}\n",
    "    for line in data.splitlines():\n",
    "        match = re.match(r'^\\|\\s*(?P<name>\\w+)\\s*\\|\\s*\\$(?P<price>\\d+)\\s*\\|$', line)\n",
    "        if match:\n",
    "            result[match.group('name')] = int(match.group('price'))\n",
    "    return result"
   ]
  },
  {
   "cell_type": "code",
   "execution_count": 3,
   "id": "2c5cf018",
   "metadata": {},
   "outputs": [],
   "source": [
    "with open('openai.key') as f:\n",
    "    openai.api_key = f.read().replace('\\n','')"
   ]
  },
  {
   "cell_type": "markdown",
   "id": "45e21232",
   "metadata": {},
   "source": [
    "### Prompt"
   ]
  },
  {
   "cell_type": "code",
   "execution_count": 4,
   "id": "78ef2ebd",
   "metadata": {},
   "outputs": [],
   "source": [
    "prompt = \"\"\"\n",
    "Alex: How much you paid for pizza?\n",
    "Jane: I paid $7 for my piece of pizza\n",
    "Max: I am not eating that pizza\n",
    "Alex: Ok, then my piece was $12\n",
    "\"\"\""
   ]
  },
  {
   "cell_type": "markdown",
   "id": "1f42f7f5",
   "metadata": {},
   "source": [
    "### Features"
   ]
  },
  {
   "cell_type": "code",
   "execution_count": 5,
   "id": "aa6d811f",
   "metadata": {},
   "outputs": [],
   "source": [
    "prompt += \"\"\"\n",
    "| Name | Price |\n",
    "\"\"\""
   ]
  },
  {
   "cell_type": "markdown",
   "id": "08e3bc85",
   "metadata": {},
   "source": [
    "### Parse"
   ]
  },
  {
   "cell_type": "code",
   "execution_count": 6,
   "id": "c0049b4c",
   "metadata": {},
   "outputs": [
    {
     "name": "stdout",
     "output_type": "stream",
     "text": [
      "\n",
      "test 0:\n",
      "|------|-------|\n",
      "| Alex | $12   |\n",
      "| Jane | $7    |\n",
      "| Max  | $0    |\n",
      "Alex 12\n",
      "Jane 7\n",
      "Max 0\n",
      "\n",
      "test 1:\n",
      "|------|-------|\n",
      "| Alex | $12   |\n",
      "| Jane | $7    |\n",
      "| Max  | $0    |\n",
      "Alex 12\n",
      "Jane 7\n",
      "Max 0\n",
      "\n",
      "test 2:\n",
      "|------|-------|\n",
      "| Alex | $12   |\n",
      "| Jane | $7    |\n",
      "| Max  | $0    |\n",
      "Alex 12\n",
      "Jane 7\n",
      "Max 0\n"
     ]
    }
   ],
   "source": [
    "for test in range(3):\n",
    "    print('\\ntest', str(test)+':')\n",
    "    response = openai.Completion.create(\n",
    "        engine=\"text-davinci-002\",\n",
    "        prompt=prompt,\n",
    "        temperature=0,\n",
    "        max_tokens=100,\n",
    "        top_p=1.0,\n",
    "        frequency_penalty=0.0,\n",
    "        presence_penalty=0.0\n",
    "    )\n",
    "    # print answer\n",
    "    response_dict = json.loads(str(response))\n",
    "    for choice in response_dict['choices']:\n",
    "        answer = choice['text']\n",
    "    print(answer)\n",
    "    # parse answer\n",
    "    for name, price in extract_data(answer).items():\n",
    "        print(name, price)"
   ]
  }
 ],
 "metadata": {
  "kernelspec": {
   "display_name": "Python (ml04)",
   "language": "python",
   "name": "ml04"
  },
  "language_info": {
   "codemirror_mode": {
    "name": "ipython",
    "version": 3
   },
   "file_extension": ".py",
   "mimetype": "text/x-python",
   "name": "python",
   "nbconvert_exporter": "python",
   "pygments_lexer": "ipython3",
   "version": "3.7.13"
  }
 },
 "nbformat": 4,
 "nbformat_minor": 5
}
