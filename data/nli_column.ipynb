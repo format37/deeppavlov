{
 "cells": [
  {
   "cell_type": "code",
   "execution_count": 1,
   "id": "f9d99731",
   "metadata": {},
   "outputs": [],
   "source": [
    "import pandas as pd"
   ]
  },
  {
   "cell_type": "code",
   "execution_count": 8,
   "id": "85f5dfee",
   "metadata": {},
   "outputs": [
    {
     "data": {
      "text/html": [
       "<div>\n",
       "<style scoped>\n",
       "    .dataframe tbody tr th:only-of-type {\n",
       "        vertical-align: middle;\n",
       "    }\n",
       "\n",
       "    .dataframe tbody tr th {\n",
       "        vertical-align: top;\n",
       "    }\n",
       "\n",
       "    .dataframe thead th {\n",
       "        text-align: right;\n",
       "    }\n",
       "</style>\n",
       "<table border=\"1\" class=\"dataframe\">\n",
       "  <thead>\n",
       "    <tr style=\"text-align: right;\">\n",
       "      <th></th>\n",
       "      <th>Unnamed: 0</th>\n",
       "      <th>Unnamed: 0.2</th>\n",
       "      <th>Unnamed: 0.1</th>\n",
       "      <th>Unnamed: 0.1.1</th>\n",
       "      <th>date_unixtime</th>\n",
       "      <th>date</th>\n",
       "      <th>text</th>\n",
       "      <th>summary_text</th>\n",
       "      <th>summary_text30</th>\n",
       "      <th>A bull market is expected</th>\n",
       "      <th>A bear market is expected</th>\n",
       "    </tr>\n",
       "  </thead>\n",
       "  <tbody>\n",
       "    <tr>\n",
       "      <th>0</th>\n",
       "      <td>0</td>\n",
       "      <td>0</td>\n",
       "      <td>0</td>\n",
       "      <td>0</td>\n",
       "      <td>1532414826</td>\n",
       "      <td>2018-07-24T09:47:06</td>\n",
       "      <td>Nuls (NULS) Spikes as Binance Backs Mainnet To...</td>\n",
       "      <td>Nuls (NULS) reached a record high of $2.76 on ...</td>\n",
       "      <td>Nuls (NULS) reached a record high of $2.76 on ...</td>\n",
       "      <td>0.470287</td>\n",
       "      <td>0.529713</td>\n",
       "    </tr>\n",
       "    <tr>\n",
       "      <th>1</th>\n",
       "      <td>1</td>\n",
       "      <td>1</td>\n",
       "      <td>1</td>\n",
       "      <td>1</td>\n",
       "      <td>1533047738</td>\n",
       "      <td>2018-07-31T17:35:38</td>\n",
       "      <td>Cardano (ADA) Launches Virtual Machine on Test...</td>\n",
       "      <td>Cardano (ADA) has completed another milestone ...</td>\n",
       "      <td>Cardano (ADA) has completed another milestone ...</td>\n",
       "      <td>0.476084</td>\n",
       "      <td>0.523916</td>\n",
       "    </tr>\n",
       "    <tr>\n",
       "      <th>2</th>\n",
       "      <td>2</td>\n",
       "      <td>2</td>\n",
       "      <td>2</td>\n",
       "      <td>2</td>\n",
       "      <td>1533369648</td>\n",
       "      <td>2018-08-04T11:00:48</td>\n",
       "      <td>​❗️ The Privacy Coin Matrix: A Comprehensive S...</td>\n",
       "      <td>A Google Docs' spreadsheet has been recently p...</td>\n",
       "      <td>A Google Docs' spreadsheet has been recently p...</td>\n",
       "      <td>0.425244</td>\n",
       "      <td>0.574756</td>\n",
       "    </tr>\n",
       "  </tbody>\n",
       "</table>\n",
       "</div>"
      ],
      "text/plain": [
       "   Unnamed: 0  Unnamed: 0.2  Unnamed: 0.1  Unnamed: 0.1.1  date_unixtime  \\\n",
       "0           0             0             0               0     1532414826   \n",
       "1           1             1             1               1     1533047738   \n",
       "2           2             2             2               2     1533369648   \n",
       "\n",
       "                  date                                               text  \\\n",
       "0  2018-07-24T09:47:06  Nuls (NULS) Spikes as Binance Backs Mainnet To...   \n",
       "1  2018-07-31T17:35:38  Cardano (ADA) Launches Virtual Machine on Test...   \n",
       "2  2018-08-04T11:00:48  ​❗️ The Privacy Coin Matrix: A Comprehensive S...   \n",
       "\n",
       "                                        summary_text  \\\n",
       "0  Nuls (NULS) reached a record high of $2.76 on ...   \n",
       "1  Cardano (ADA) has completed another milestone ...   \n",
       "2  A Google Docs' spreadsheet has been recently p...   \n",
       "\n",
       "                                      summary_text30  \\\n",
       "0  Nuls (NULS) reached a record high of $2.76 on ...   \n",
       "1  Cardano (ADA) has completed another milestone ...   \n",
       "2  A Google Docs' spreadsheet has been recently p...   \n",
       "\n",
       "   A bull market is expected  A bear market is expected  \n",
       "0                   0.470287                   0.529713  \n",
       "1                   0.476084                   0.523916  \n",
       "2                   0.425244                   0.574756  "
      ]
     },
     "execution_count": 8,
     "metadata": {},
     "output_type": "execute_result"
    }
   ],
   "source": [
    "df = pd.read_csv('temp.csv')\n",
    "classes = ['A bull market is expected', 'A bear market is expected']\n",
    "# calculate first and second class ratio\n",
    "# df['first_class_ratio'] = df[classes[0]] / df[classes[1]]\n",
    "df.head(3)"
   ]
  },
  {
   "cell_type": "code",
   "execution_count": 10,
   "id": "f02924a3",
   "metadata": {},
   "outputs": [
    {
     "data": {
      "text/plain": [
       "(0.6191088557243347, 0.6211625167301723)"
      ]
     },
     "execution_count": 10,
     "metadata": {},
     "output_type": "execute_result"
    }
   ],
   "source": [
    "df[classes[0]].max(), df[classes[1]].max()"
   ]
  },
  {
   "cell_type": "code",
   "execution_count": 27,
   "id": "9cc84a3d",
   "metadata": {},
   "outputs": [
    {
     "data": {
      "text/plain": [
       "'HTC launches Desire 22 Pro, Metaverse-enabled smartphone with NFT and crypto wallet'"
      ]
     },
     "execution_count": 27,
     "metadata": {},
     "output_type": "execute_result"
    }
   ],
   "source": [
    "df[df[classes[0]]==df[classes[0]].max()].iloc()[0].text"
   ]
  },
  {
   "cell_type": "code",
   "execution_count": 29,
   "id": "2cae2ddf",
   "metadata": {},
   "outputs": [
    {
     "name": "stdout",
     "output_type": "stream",
     "text": [
      "​South African crypto-holers are urged to come to tax\n",
      "\n",
      "South African tax expert David Lesperance says crypto investors should take the initiative and contact the South African Tax Service (SARS) before she comes to them herself. By taking the first step, the expert said, crypto investors will be able to avoid the penalties that SARS often imposes on tax evaders.\n",
      "\n",
      "Meanwhile, Lesperance, in comments for bitcoin.news, urged crypto owners to get rid of the \"fantasy that they are not going to pay taxes.\"\n",
      "\n",
      "In a post aimed specifically at early adopters of cryptocurrency, the tax expert explains how the current situation works in favor of revenue collectors like SARS. He said:\n",
      "\n",
      "Crypto-based transactions are a revenue collector's dream because everything is stored in a public ledger and its data cannot be changed.\n",
      "\n",
      "Lesperance, who recently gave a presentation at one of the tax webinars, adds that since public registries are censorship resistant, the “sole” task of revenue collectors will be to\n"
     ]
    }
   ],
   "source": [
    "print(df[df[classes[1]]==df[classes[1]].max()].iloc()[0].text)"
   ]
  }
 ],
 "metadata": {
  "kernelspec": {
   "display_name": "Python (ml04)",
   "language": "python",
   "name": "ml04"
  },
  "language_info": {
   "codemirror_mode": {
    "name": "ipython",
    "version": 3
   },
   "file_extension": ".py",
   "mimetype": "text/x-python",
   "name": "python",
   "nbconvert_exporter": "python",
   "pygments_lexer": "ipython3",
   "version": "3.7.12"
  }
 },
 "nbformat": 4,
 "nbformat_minor": 5
}
