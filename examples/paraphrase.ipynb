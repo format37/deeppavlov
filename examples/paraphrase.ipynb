{
 "cells": [
  {
   "cell_type": "code",
   "execution_count": 2,
   "id": "14265d55",
   "metadata": {},
   "outputs": [],
   "source": [
    "import json\n",
    "import requests\n",
    "import time\n",
    "import pickle\n",
    "from datetime import datetime as dt"
   ]
  },
  {
   "cell_type": "code",
   "execution_count": 5,
   "id": "cb71cd4a",
   "metadata": {},
   "outputs": [],
   "source": [
    "port = '10000'\n",
    "server_address = 'http://192.168.1.11:'+port"
   ]
  },
  {
   "cell_type": "markdown",
   "id": "5ca1e9b4",
   "metadata": {},
   "source": [
    "### wait for server be ready"
   ]
  },
  {
   "cell_type": "code",
   "execution_count": 6,
   "id": "8299681a",
   "metadata": {},
   "outputs": [
    {
     "name": "stdout",
     "output_type": "stream",
     "text": [
      "2022-06-01 14:02:45.580626 waiting for server..\n",
      "get ok\n",
      "2022-06-01 14:02:50.626034 server is ready\n"
     ]
    }
   ],
   "source": [
    "print(dt.now(), 'waiting for server..')\n",
    "r = ''\n",
    "while r == '':\n",
    "    try:\n",
    "        r = requests.get(server_address+'/test').text\n",
    "    except Exception as e:\n",
    "        time.sleep(1)\n",
    "print(r)\n",
    "print(dt.now(), 'server is ready')"
   ]
  },
  {
   "cell_type": "markdown",
   "id": "fb08d860",
   "metadata": {},
   "source": [
    "### request"
   ]
  },
  {
   "cell_type": "code",
   "execution_count": 7,
   "id": "e022f1e0",
   "metadata": {},
   "outputs": [],
   "source": [
    "def string_to_array(result):\n",
    "    return [int(x) for x in result.split(\",\")]"
   ]
  },
  {
   "cell_type": "code",
   "execution_count": 8,
   "id": "8c130e8b",
   "metadata": {},
   "outputs": [],
   "source": [
    "data = {\n",
    "        \"text_a\": ['Солнце встало и осветило горы','Солнце встало и осветило горы'],\n",
    "        \"text_b\": ['Светило поднялось и горы стали светлыми','Звезда зашла за горы и стало темно']\n",
    "    }"
   ]
  },
  {
   "cell_type": "code",
   "execution_count": 9,
   "id": "99a30b2d",
   "metadata": {},
   "outputs": [
    {
     "name": "stdout",
     "output_type": "stream",
     "text": [
      "<Response [200]>\n"
     ]
    },
    {
     "data": {
      "text/plain": [
       "[1, 0]"
      ]
     },
     "execution_count": 9,
     "metadata": {},
     "output_type": "execute_result"
    }
   ],
   "source": [
    "request_str = json.dumps(data)\n",
    "response = requests.post(server_address+'/inference', json=request_str)\n",
    "print(response)\n",
    "result = string_to_array(response.text)\n",
    "result"
   ]
  }
 ],
 "metadata": {
  "kernelspec": {
   "display_name": "Python (ml04)",
   "language": "python",
   "name": "ml04"
  },
  "language_info": {
   "codemirror_mode": {
    "name": "ipython",
    "version": 3
   },
   "file_extension": ".py",
   "mimetype": "text/x-python",
   "name": "python",
   "nbconvert_exporter": "python",
   "pygments_lexer": "ipython3",
   "version": "3.7.13"
  }
 },
 "nbformat": 4,
 "nbformat_minor": 5
}
