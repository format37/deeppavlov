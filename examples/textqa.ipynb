{
 "cells": [
  {
   "cell_type": "code",
   "execution_count": 1,
   "id": "14265d55",
   "metadata": {},
   "outputs": [],
   "source": [
    "import json\n",
    "import requests\n",
    "import time\n",
    "import pickle\n",
    "from datetime import datetime as dt"
   ]
  },
  {
   "cell_type": "code",
   "execution_count": 2,
   "id": "cb71cd4a",
   "metadata": {},
   "outputs": [],
   "source": [
    "port = '10002'\n",
    "server_address = 'http://192.168.1.11:'+port\n",
    "#server_address = 'http://localhost:'+port"
   ]
  },
  {
   "cell_type": "markdown",
   "id": "5ca1e9b4",
   "metadata": {},
   "source": [
    "### wait for server be ready"
   ]
  },
  {
   "cell_type": "code",
   "execution_count": 3,
   "id": "8299681a",
   "metadata": {},
   "outputs": [
    {
     "name": "stdout",
     "output_type": "stream",
     "text": [
      "2022-06-02 09:58:42.350938 waiting for server..\n",
      "get ok\n",
      "2022-06-02 10:01:33.774935 server is ready\n"
     ]
    }
   ],
   "source": [
    "print(dt.now(), 'waiting for server..')\n",
    "r = ''\n",
    "while r == '':\n",
    "    try:\n",
    "        r = requests.get(server_address+'/test').text\n",
    "    except Exception as e:\n",
    "        time.sleep(1)\n",
    "print(r)\n",
    "print(dt.now(), 'server is ready')"
   ]
  },
  {
   "cell_type": "markdown",
   "id": "fb08d860",
   "metadata": {},
   "source": [
    "### request"
   ]
  },
  {
   "cell_type": "code",
   "execution_count": 4,
   "id": "8c130e8b",
   "metadata": {},
   "outputs": [],
   "source": [
    "texts = []\n",
    "questions = []\n",
    "\n",
    "text = \"\"\"Центральной площадью Рима стала долина между Палатином и Квириналом, известная как Форум.\n",
    "Отсюда расходились важнейшие улицы: via sacra, поднимающаяся к главной святыне Рима — храму \n",
    "Юпитера Капитолийского. Параллельно ей, у подножия Палатина, проходила via nova и др.\n",
    "Другой важной площадью внутри города был рынок скота у Тибра — Бычий форум, располагавшийся в самой \n",
    "оживлённой торговой части города. По соседству, но вне стен города, лежал овощной рынок.\"\"\"\n",
    "question = 'Что называли Форумом?'\n",
    "texts.append(text)\n",
    "questions.append(question)\n",
    "\n",
    "text = \"\"\"Скорость ветров на Юпитере может превышать 600 км/ч. В отличие от Земли, где циркуляция атмосферы \n",
    "происходит за счёт разницы солнечного нагрева в экваториальных и полярных областях, на Юпитере воздействие \n",
    "солнечной радиации на температурную циркуляцию незначительно; главными движущими силами являются потоки тепла, \n",
    "идущие из центра планеты, и энергия, выделяемая при быстром движении Юпитера вокруг своей оси\"\"\"\n",
    "question = 'Чем Юпитер отличается от Земли?'\n",
    "texts.append(text)\n",
    "questions.append(question)\n",
    "\n",
    "request = {'texts':texts,'questions':questions}"
   ]
  },
  {
   "cell_type": "code",
   "execution_count": 5,
   "id": "144889d5",
   "metadata": {},
   "outputs": [
    {
     "data": {
      "text/plain": [
       "<Response [200]>"
      ]
     },
     "execution_count": 5,
     "metadata": {},
     "output_type": "execute_result"
    }
   ],
   "source": [
    "request_str = json.dumps(request)\n",
    "response = requests.post(server_address+'/inference', json=request_str)\n",
    "response"
   ]
  },
  {
   "cell_type": "code",
   "execution_count": 6,
   "id": "13d767a6",
   "metadata": {},
   "outputs": [
    {
     "name": "stdout",
     "output_type": "stream",
     "text": [
      "Что называли Форумом? :\n",
      "- долина между Палатином и Квириналом \n",
      "\n",
      "Чем Юпитер отличается от Земли? :\n",
      "- циркуляция атмосферы \n",
      "происходит за счёт разницы солнечного нагрева \n",
      "\n"
     ]
    }
   ],
   "source": [
    "json_response = json.loads(response.text)\n",
    "answers = json_response[0]\n",
    "for i in range(len(answers)):\n",
    "    print(questions[i], \":\\n-\" , answers[i], '\\n')"
   ]
  }
 ],
 "metadata": {
  "kernelspec": {
   "display_name": "Python (ml04)",
   "language": "python",
   "name": "ml04"
  },
  "language_info": {
   "codemirror_mode": {
    "name": "ipython",
    "version": 3
   },
   "file_extension": ".py",
   "mimetype": "text/x-python",
   "name": "python",
   "nbconvert_exporter": "python",
   "pygments_lexer": "ipython3",
   "version": "3.7.13"
  }
 },
 "nbformat": 4,
 "nbformat_minor": 5
}
