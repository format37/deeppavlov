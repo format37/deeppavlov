{
 "cells": [
  {
   "cell_type": "code",
   "execution_count": 1,
   "id": "14265d55",
   "metadata": {},
   "outputs": [],
   "source": [
    "import json\n",
    "import requests\n",
    "import time\n",
    "import pickle\n",
    "from datetime import datetime as dt"
   ]
  },
  {
   "cell_type": "code",
   "execution_count": 27,
   "id": "cb71cd4a",
   "metadata": {},
   "outputs": [],
   "source": [
    "port = '10001'\n",
    "server_address = 'http://192.168.1.11:'+port\n",
    "#server_address = 'http://localhost:'+port"
   ]
  },
  {
   "cell_type": "markdown",
   "id": "5ca1e9b4",
   "metadata": {},
   "source": [
    "### wait for server be ready"
   ]
  },
  {
   "cell_type": "code",
   "execution_count": 28,
   "id": "8299681a",
   "metadata": {},
   "outputs": [
    {
     "name": "stdout",
     "output_type": "stream",
     "text": [
      "2022-06-01 15:56:48.806112 waiting for server..\n",
      "get ok\n",
      "2022-06-01 15:58:03.349774 server is ready\n"
     ]
    }
   ],
   "source": [
    "print(dt.now(), 'waiting for server..')\n",
    "r = ''\n",
    "while r == '':\n",
    "    try:\n",
    "        r = requests.get(server_address+'/test').text\n",
    "    except Exception as e:\n",
    "        time.sleep(1)\n",
    "print(r)\n",
    "print(dt.now(), 'server is ready')"
   ]
  },
  {
   "cell_type": "markdown",
   "id": "fb08d860",
   "metadata": {},
   "source": [
    "### request"
   ]
  },
  {
   "cell_type": "code",
   "execution_count": 25,
   "id": "e022f1e0",
   "metadata": {},
   "outputs": [],
   "source": [
    "def string_to_array(result):\n",
    "    return [x for x in result.split(\",\")]"
   ]
  },
  {
   "cell_type": "code",
   "execution_count": 29,
   "id": "fff679d7",
   "metadata": {},
   "outputs": [],
   "source": [
    "data = [\n",
    "    'День начался хорошо. Встало солнце. Играла хорошая музыка.',\n",
    "    'Вчера все было как обычно. Ничего не происходило.',\n",
    "    'Фильм ужасный. Мы зря потратили время. Только испортили настроение.'\n",
    "]"
   ]
  },
  {
   "cell_type": "code",
   "execution_count": 30,
   "id": "d1cd3bf2",
   "metadata": {},
   "outputs": [
    {
     "name": "stdout",
     "output_type": "stream",
     "text": [
      "<Response [200]>\n"
     ]
    }
   ],
   "source": [
    "request_str = json.dumps(data)\n",
    "response = requests.post(server_address+'/inference', json=request_str)\n",
    "print(response)"
   ]
  },
  {
   "cell_type": "code",
   "execution_count": 31,
   "id": "401447ae",
   "metadata": {},
   "outputs": [
    {
     "data": {
      "text/plain": [
       "'positive,neutral,negative'"
      ]
     },
     "execution_count": 31,
     "metadata": {},
     "output_type": "execute_result"
    }
   ],
   "source": [
    "response.text"
   ]
  },
  {
   "cell_type": "code",
   "execution_count": 32,
   "id": "8b8668a3",
   "metadata": {},
   "outputs": [
    {
     "data": {
      "text/plain": [
       "['positive', 'neutral', 'negative']"
      ]
     },
     "execution_count": 32,
     "metadata": {},
     "output_type": "execute_result"
    }
   ],
   "source": [
    "string_to_array(response.text)"
   ]
  }
 ],
 "metadata": {
  "kernelspec": {
   "display_name": "Python (ml04)",
   "language": "python",
   "name": "ml04"
  },
  "language_info": {
   "codemirror_mode": {
    "name": "ipython",
    "version": 3
   },
   "file_extension": ".py",
   "mimetype": "text/x-python",
   "name": "python",
   "nbconvert_exporter": "python",
   "pygments_lexer": "ipython3",
   "version": "3.7.13"
  }
 },
 "nbformat": 4,
 "nbformat_minor": 5
}
